{
 "cells": [
  {
   "cell_type": "code",
   "execution_count": 10,
   "metadata": {
    "collapsed": true
   },
   "outputs": [],
   "source": [
    "with open('data/puzzle_2a.txt') as f:\n",
    "    lines = f.readlines()"
   ]
  },
  {
   "cell_type": "code",
   "execution_count": 11,
   "outputs": [
    {
     "name": "stdout",
     "output_type": "stream",
     "text": [
      "2033 768 1561344\n"
     ]
    }
   ],
   "source": [
    "# puzzle 2a\n",
    "x = 0\n",
    "y = 0\n",
    "for l in lines:\n",
    "    el = l.split()\n",
    "    val = int(el[1])\n",
    "    match el[0]:\n",
    "        case 'forward':\n",
    "            x += val\n",
    "        case 'back':\n",
    "            x -= val\n",
    "        case 'down':\n",
    "            y += val\n",
    "        case 'up':\n",
    "            y -= val\n",
    "\n",
    "print(x, y, x*y)"
   ],
   "metadata": {
    "collapsed": false
   }
  },
  {
   "cell_type": "code",
   "execution_count": 14,
   "outputs": [
    {
     "name": "stdout",
     "output_type": "stream",
     "text": [
      "2033 909225 1848454425\n"
     ]
    }
   ],
   "source": [
    "# puzzle 2b\n",
    "\n",
    "with open('data/puzzle_2a.txt') as f:\n",
    "    lines = f.readlines()\n",
    "\n",
    "\n",
    "x = 0\n",
    "y = 0\n",
    "aim = 0\n",
    "\n",
    "for l in lines:\n",
    "    el = l.split()\n",
    "    val = int(el[1])\n",
    "    match el[0]:\n",
    "        case 'forward':\n",
    "            x += val\n",
    "            y += val*aim\n",
    "        case 'down':\n",
    "            aim += val\n",
    "        case 'up':\n",
    "            aim -= val\n",
    "\n",
    "print(x, y, x*y)"
   ],
   "metadata": {
    "collapsed": false
   }
  },
  {
   "cell_type": "code",
   "execution_count": null,
   "outputs": [],
   "source": [],
   "metadata": {
    "collapsed": false
   }
  }
 ],
 "metadata": {
  "kernelspec": {
   "display_name": "Python 3",
   "language": "python",
   "name": "python3"
  },
  "language_info": {
   "codemirror_mode": {
    "name": "ipython",
    "version": 2
   },
   "file_extension": ".py",
   "mimetype": "text/x-python",
   "name": "python",
   "nbconvert_exporter": "python",
   "pygments_lexer": "ipython2",
   "version": "2.7.6"
  }
 },
 "nbformat": 4,
 "nbformat_minor": 0
}
