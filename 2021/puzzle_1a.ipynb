{
 "cells": [
  {
   "cell_type": "code",
   "execution_count": 2,
   "outputs": [],
   "source": [
    "import pandas as pd"
   ],
   "metadata": {
    "collapsed": false
   }
  },
  {
   "cell_type": "code",
   "execution_count": 5,
   "outputs": [],
   "source": [
    "df = pd.read_csv('data/data_1a.csv')"
   ],
   "metadata": {
    "collapsed": false
   }
  },
  {
   "cell_type": "code",
   "execution_count": 16,
   "outputs": [],
   "source": [
    "df['lag1'] = df['data'].shift(1)\n",
    "df['lag2'] = df['data'].shift(2)"
   ],
   "metadata": {
    "collapsed": false
   }
  },
  {
   "cell_type": "code",
   "execution_count": 17,
   "outputs": [],
   "source": [
    "df['diff'] = df['lag1'] < df['data']"
   ],
   "metadata": {
    "collapsed": false
   }
  },
  {
   "cell_type": "code",
   "execution_count": 18,
   "outputs": [
    {
     "data": {
      "text/plain": "1374"
     },
     "execution_count": 18,
     "metadata": {},
     "output_type": "execute_result"
    }
   ],
   "source": [
    "sum(df['diff'])"
   ],
   "metadata": {
    "collapsed": false
   }
  },
  {
   "cell_type": "code",
   "execution_count": 18,
   "outputs": [],
   "source": [],
   "metadata": {
    "collapsed": false
   }
  },
  {
   "cell_type": "code",
   "execution_count": 23,
   "outputs": [],
   "source": [
    "df['window'] = df['data'] + df['lag1'] + df['lag2']\n",
    "df['window_lag'] = df['window'].shift(1)\n",
    "df['window_diff'] = df['window'] > df['window_lag']"
   ],
   "metadata": {
    "collapsed": false
   }
  },
  {
   "cell_type": "code",
   "execution_count": 24,
   "outputs": [
    {
     "data": {
      "text/plain": "      data     lag   diff    lag1    lag2   window  window_lag  window_diff\n0      191     NaN  False     NaN     NaN      NaN         NaN        False\n1      192   191.0   True   191.0     NaN      NaN         NaN        False\n2      201   192.0   True   192.0   191.0    584.0         NaN        False\n3      205   201.0   True   201.0   192.0    598.0       584.0         True\n4      206   205.0   True   205.0   201.0    612.0       598.0         True\n...    ...     ...    ...     ...     ...      ...         ...          ...\n1995  5777  5776.0   True  5776.0  5743.0  17296.0     17259.0         True\n1996  5788  5777.0   True  5777.0  5776.0  17341.0     17296.0         True\n1997  5787  5788.0  False  5788.0  5777.0  17352.0     17341.0         True\n1998  5783  5787.0  False  5787.0  5788.0  17358.0     17352.0         True\n1999  5791  5783.0   True  5783.0  5787.0  17361.0     17358.0         True\n\n[2000 rows x 8 columns]",
      "text/html": "<div>\n<style scoped>\n    .dataframe tbody tr th:only-of-type {\n        vertical-align: middle;\n    }\n\n    .dataframe tbody tr th {\n        vertical-align: top;\n    }\n\n    .dataframe thead th {\n        text-align: right;\n    }\n</style>\n<table border=\"1\" class=\"dataframe\">\n  <thead>\n    <tr style=\"text-align: right;\">\n      <th></th>\n      <th>data</th>\n      <th>lag</th>\n      <th>diff</th>\n      <th>lag1</th>\n      <th>lag2</th>\n      <th>window</th>\n      <th>window_lag</th>\n      <th>window_diff</th>\n    </tr>\n  </thead>\n  <tbody>\n    <tr>\n      <th>0</th>\n      <td>191</td>\n      <td>NaN</td>\n      <td>False</td>\n      <td>NaN</td>\n      <td>NaN</td>\n      <td>NaN</td>\n      <td>NaN</td>\n      <td>False</td>\n    </tr>\n    <tr>\n      <th>1</th>\n      <td>192</td>\n      <td>191.0</td>\n      <td>True</td>\n      <td>191.0</td>\n      <td>NaN</td>\n      <td>NaN</td>\n      <td>NaN</td>\n      <td>False</td>\n    </tr>\n    <tr>\n      <th>2</th>\n      <td>201</td>\n      <td>192.0</td>\n      <td>True</td>\n      <td>192.0</td>\n      <td>191.0</td>\n      <td>584.0</td>\n      <td>NaN</td>\n      <td>False</td>\n    </tr>\n    <tr>\n      <th>3</th>\n      <td>205</td>\n      <td>201.0</td>\n      <td>True</td>\n      <td>201.0</td>\n      <td>192.0</td>\n      <td>598.0</td>\n      <td>584.0</td>\n      <td>True</td>\n    </tr>\n    <tr>\n      <th>4</th>\n      <td>206</td>\n      <td>205.0</td>\n      <td>True</td>\n      <td>205.0</td>\n      <td>201.0</td>\n      <td>612.0</td>\n      <td>598.0</td>\n      <td>True</td>\n    </tr>\n    <tr>\n      <th>...</th>\n      <td>...</td>\n      <td>...</td>\n      <td>...</td>\n      <td>...</td>\n      <td>...</td>\n      <td>...</td>\n      <td>...</td>\n      <td>...</td>\n    </tr>\n    <tr>\n      <th>1995</th>\n      <td>5777</td>\n      <td>5776.0</td>\n      <td>True</td>\n      <td>5776.0</td>\n      <td>5743.0</td>\n      <td>17296.0</td>\n      <td>17259.0</td>\n      <td>True</td>\n    </tr>\n    <tr>\n      <th>1996</th>\n      <td>5788</td>\n      <td>5777.0</td>\n      <td>True</td>\n      <td>5777.0</td>\n      <td>5776.0</td>\n      <td>17341.0</td>\n      <td>17296.0</td>\n      <td>True</td>\n    </tr>\n    <tr>\n      <th>1997</th>\n      <td>5787</td>\n      <td>5788.0</td>\n      <td>False</td>\n      <td>5788.0</td>\n      <td>5777.0</td>\n      <td>17352.0</td>\n      <td>17341.0</td>\n      <td>True</td>\n    </tr>\n    <tr>\n      <th>1998</th>\n      <td>5783</td>\n      <td>5787.0</td>\n      <td>False</td>\n      <td>5787.0</td>\n      <td>5788.0</td>\n      <td>17358.0</td>\n      <td>17352.0</td>\n      <td>True</td>\n    </tr>\n    <tr>\n      <th>1999</th>\n      <td>5791</td>\n      <td>5783.0</td>\n      <td>True</td>\n      <td>5783.0</td>\n      <td>5787.0</td>\n      <td>17361.0</td>\n      <td>17358.0</td>\n      <td>True</td>\n    </tr>\n  </tbody>\n</table>\n<p>2000 rows × 8 columns</p>\n</div>"
     },
     "execution_count": 24,
     "metadata": {},
     "output_type": "execute_result"
    }
   ],
   "source": [
    "df"
   ],
   "metadata": {
    "collapsed": false
   }
  },
  {
   "cell_type": "code",
   "execution_count": 25,
   "outputs": [
    {
     "data": {
      "text/plain": "1418"
     },
     "execution_count": 25,
     "metadata": {},
     "output_type": "execute_result"
    }
   ],
   "source": [
    "sum(df['window_diff'])"
   ],
   "metadata": {
    "collapsed": false
   }
  },
  {
   "cell_type": "code",
   "execution_count": null,
   "outputs": [],
   "source": [],
   "metadata": {
    "collapsed": false
   }
  }
 ],
 "metadata": {
  "kernelspec": {
   "display_name": "Python 3",
   "language": "python",
   "name": "python3"
  },
  "language_info": {
   "codemirror_mode": {
    "name": "ipython",
    "version": 2
   },
   "file_extension": ".py",
   "mimetype": "text/x-python",
   "name": "python",
   "nbconvert_exporter": "python",
   "pygments_lexer": "ipython2",
   "version": "2.7.6"
  }
 },
 "nbformat": 4,
 "nbformat_minor": 0
}
