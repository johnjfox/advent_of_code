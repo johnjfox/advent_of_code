{
 "cells": [
  {
   "cell_type": "code",
   "execution_count": null,
   "metadata": {
    "collapsed": true
   },
   "outputs": [],
   "source": [
    "def puzzle_a(filename):\n",
    "\n",
    "    with open('data/'+ filename) as f:\n",
    "        lines = f.readlines()\n",
    "\n",
    "    # for l in range(0,5):\n",
    "    #     print(lines[l][:-1])\n",
    "\n",
    "    nrows = len(lines)\n",
    "    cnts = [0]*(len(lines[0]) - 1)\n",
    "\n",
    "    for l in lines:\n",
    "        # drop the new lines character\n",
    "        l = l[:-1]\n",
    "        for i,v in enumerate(l):\n",
    "            cnts[i] += int(v)\n",
    "        # print(l, cnts)\n",
    "\n",
    "    oxygen_filter_list = [int(i > nrows / 2) for i in cnts]\n",
    "    oxygen_filter_str = ''.join(str(e) for e in oxygen_filter_list)\n",
    "    oxygen_filter = int(oxygen_filter_str,2)\n",
    "    co2_filter_list = [int(i < nrows / 2) for i in cnts]\n",
    "    co2_filter_str = ''.join(str(e) for e in co2_filter_list)\n",
    "    co2_filter = int(co2_filter_str,2)\n",
    "\n",
    "    print(f'NROWS: {nrows}')\n",
    "    print('COUNTS', cnts)\n",
    "    print('oxygen_filter:  ', oxygen_filter_list, oxygen_filter_str, oxygen_filter)\n",
    "    print('co2_filterilon:', co2_filter_list, co2_filter_str, co2_filter)\n",
    "    print('power:  ', co2_filter*oxygen_filter)"
   ]
  },
  {
   "cell_type": "code",
   "execution_count": null,
   "outputs": [],
   "source": [
    "puzzle_a('test3.txt')"
   ],
   "metadata": {
    "collapsed": false
   }
  },
  {
   "cell_type": "code",
   "execution_count": null,
   "outputs": [],
   "source": [
    "puzzle_a('puzzle3.txt')"
   ],
   "metadata": {
    "collapsed": false
   }
  },
  {
   "cell_type": "code",
   "execution_count": 80,
   "outputs": [],
   "source": [
    "def build_filter(lines, swap=False):\n",
    "    nrows = len(lines)\n",
    "\n",
    "    # determine the filter bits\n",
    "    f = [0]*(len(lines[0]))\n",
    "    for l in lines:\n",
    "        for i,v in enumerate(l):\n",
    "            f[i] += int(v)\n",
    "        # print(l, f)\n",
    "    filter_list = [int(i >= nrows / 2) for i in f]\n",
    "    if (swap):\n",
    "        return [1-f for f in filter_list]\n",
    "    else:\n",
    "        return filter_list\n",
    "\n",
    "def filter_rows(res, swap=False):\n",
    "    nbits = len(res[0])\n",
    "    for i in range(nbits):\n",
    "        res0 = res\n",
    "        mask = build_filter(res, swap)\n",
    "        res = [l for l in res if l[i] == str(mask[i]) ]\n",
    "        # print(i, mask, mask[i], res0, res)\n",
    "        if (len(res) == 1):\n",
    "            break\n",
    "    return res\n",
    "\n",
    "def puzzle_b(filename):\n",
    "    with open('data/'+ filename) as f:\n",
    "        raw = f.readlines()\n",
    "    lines = [l[:-1] for l in raw]\n",
    "\n",
    "    build_filter(lines)\n",
    "    oxy = filter_rows(lines, False)\n",
    "    print('---------------------')\n",
    "    c02 = filter_rows(lines, True)\n",
    "\n",
    "    print('oxygen_filter:  ', oxy, int(oxy[0],2))\n",
    "    print('co2_filter:', c02, int(c02[0],2))\n",
    "    print(int(oxy[0],2) * int(c02[0],2))"
   ],
   "metadata": {
    "collapsed": false
   }
  },
  {
   "cell_type": "code",
   "execution_count": 81,
   "outputs": [
    {
     "name": "stdout",
     "output_type": "stream",
     "text": [
      "---------------------\n",
      "oxygen_filter:   ['100111011110'] 2526\n",
      "co2_filter: ['010010100000'] 1184\n",
      "2990784\n"
     ]
    }
   ],
   "source": [
    "puzzle_b('puzzle3.txt')"
   ],
   "metadata": {
    "collapsed": false
   }
  },
  {
   "cell_type": "code",
   "execution_count": 14,
   "outputs": [],
   "source": [],
   "metadata": {
    "collapsed": false
   }
  }
 ],
 "metadata": {
  "kernelspec": {
   "display_name": "Python 3",
   "language": "python",
   "name": "python3"
  },
  "language_info": {
   "codemirror_mode": {
    "name": "ipython",
    "version": 2
   },
   "file_extension": ".py",
   "mimetype": "text/x-python",
   "name": "python",
   "nbconvert_exporter": "python",
   "pygments_lexer": "ipython2",
   "version": "2.7.6"
  }
 },
 "nbformat": 4,
 "nbformat_minor": 0
}
