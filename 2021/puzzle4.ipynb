{
 "cells": [
  {
   "cell_type": "code",
   "execution_count": 1,
   "metadata": {
    "collapsed": true
   },
   "outputs": [],
   "source": [
    "def get_data(filename):\n",
    "    with open('data/'+ filename + '_rolls.txt') as f:\n",
    "        roll_str = f.readline()\n",
    "    # print(roll_str)\n",
    "    rolls = roll_str.split(',')\n",
    "    with open('data/'+ filename + '.txt') as f:\n",
    "        raw = f.readlines()\n",
    "    board_str = [l[:-1] for l in raw]\n",
    "\n",
    "    score=list()\n",
    "    for l in board_str:\n",
    "        if len(l) > 0:\n",
    "            score.append(list(map(lambda v: int(v), l.split())))\n",
    "\n",
    "    nplayers = int(len(score) / 5)\n",
    "    lookup = dict()\n",
    "    for i,row in enumerate(score):\n",
    "        player = int(i/5)\n",
    "        r = i % 5\n",
    "        for c,v in enumerate(row):\n",
    "            lookup.setdefault(str(v), []).append(((i,r,c)))\n",
    "    return rolls, nplayers, lookup, score"
   ]
  },
  {
   "cell_type": "code",
   "execution_count": 55,
   "outputs": [],
   "source": [
    "def create_boards(nplayers, rolls, lookup):\n",
    "    boards = []\n",
    "    for i in range(5*nplayers):\n",
    "        boards.append([0]*5)\n",
    "    return boards\n",
    "\n",
    "def check_rows(boards):\n",
    "    # print(boards)\n",
    "    for i,v in enumerate(boards):\n",
    "        if sum(v) == 5:\n",
    "            # print('++', v)\n",
    "            return int(i/5)\n",
    "    return -1\n",
    "\n",
    "def check_cols(nplayers, boards):\n",
    "    for i in range(5):\n",
    "        for j in range(nplayers):\n",
    "            for k in range(5):\n",
    "                # print(i, j, k)\n",
    "                s = boards[j*5+k][i]\n",
    "                if s == 5:\n",
    "                    # print('--', j)\n",
    "                    return int(j/5)\n",
    "    return -1\n",
    "\n",
    "def check_winner(nplayers, boards):\n",
    "    rw = check_rows(boards)\n",
    "    if rw > 0:\n",
    "        return rw\n",
    "    rc = check_cols(nplayers, boards)\n",
    "    if rc > 0:\n",
    "        return rc\n",
    "    return -1\n",
    "\n",
    "def compute_board_val(w, nplayers, boards, score):\n",
    "    s = 0\n",
    "    # print(boards[5*w: 5*w+5])\n",
    "    # print('===================')\n",
    "    # print(score[5*w: 5*w+5])\n",
    "    for r in score[5*w: 5*w+5]:\n",
    "        s += sum(r)\n",
    "    return s\n",
    "\n",
    "def update_boards(nplayers, rolls, lookup, boards, score):\n",
    "    for i, r in enumerate(rolls):\n",
    "        update = lookup[r]\n",
    "        for j, u in enumerate(update):\n",
    "            boards[u[0]][u[2]] = 1\n",
    "            score[u[0]][u[2]] = 0\n",
    "            # print(i, r, j, u, u[0], u[2], boards[u[0]][u[2]], score[u[0]][u[2]])\n",
    "        w = check_winner(nplayers, boards)\n",
    "        if w > 0:\n",
    "            res = compute_board_val(w, nplayers, boards, score) * int(r)\n",
    "            print(\"WINNER:\", w, res)\n",
    "            break\n"
   ],
   "metadata": {
    "collapsed": false
   }
  },
  {
   "cell_type": "markdown",
   "source": [],
   "metadata": {
    "collapsed": false
   }
  },
  {
   "cell_type": "code",
   "execution_count": 56,
   "outputs": [],
   "source": [
    "rolls, nplayers, lookup, score = get_data('puzzle4')"
   ],
   "metadata": {
    "collapsed": false
   }
  },
  {
   "cell_type": "code",
   "execution_count": 57,
   "outputs": [],
   "source": [
    "boards = create_boards(nplayers, rolls, lookup)"
   ],
   "metadata": {
    "collapsed": false
   }
  },
  {
   "cell_type": "code",
   "execution_count": 58,
   "outputs": [
    {
     "name": "stdout",
     "output_type": "stream",
     "text": [
      "WINNER: 68 41668\n"
     ]
    }
   ],
   "source": [
    "score = update_boards(nplayers, rolls, lookup, boards, score)"
   ],
   "metadata": {
    "collapsed": false
   }
  },
  {
   "cell_type": "code",
   "execution_count": 37,
   "outputs": [
    {
     "ename": "NameError",
     "evalue": "name 'update' is not defined",
     "output_type": "error",
     "traceback": [
      "\u001B[0;31m---------------------------------------------------------------------------\u001B[0m",
      "\u001B[0;31mNameError\u001B[0m                                 Traceback (most recent call last)",
      "Cell \u001B[0;32mIn [37], line 1\u001B[0m\n\u001B[0;32m----> 1\u001B[0m \u001B[43mupdate\u001B[49m\n",
      "\u001B[0;31mNameError\u001B[0m: name 'update' is not defined"
     ]
    }
   ],
   "source": [
    "update"
   ],
   "metadata": {
    "collapsed": false
   }
  },
  {
   "cell_type": "code",
   "execution_count": null,
   "outputs": [],
   "source": [],
   "metadata": {
    "collapsed": false
   }
  }
 ],
 "metadata": {
  "kernelspec": {
   "display_name": "Python 3",
   "language": "python",
   "name": "python3"
  },
  "language_info": {
   "codemirror_mode": {
    "name": "ipython",
    "version": 2
   },
   "file_extension": ".py",
   "mimetype": "text/x-python",
   "name": "python",
   "nbconvert_exporter": "python",
   "pygments_lexer": "ipython2",
   "version": "2.7.6"
  }
 },
 "nbformat": 4,
 "nbformat_minor": 0
}
